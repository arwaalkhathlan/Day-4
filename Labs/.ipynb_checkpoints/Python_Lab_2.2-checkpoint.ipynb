{
 "cells": [
  {
   "cell_type": "markdown",
   "metadata": {
    "id": "E9Y5ss1ZYj3r"
   },
   "source": [
    "# Python_Lab_2.2\n"
   ]
  },
  {
   "cell_type": "markdown",
   "metadata": {
    "id": "Q1kAqc72Yj3t"
   },
   "source": [
    "### Task 1\n",
    "1. Write a program that prompts the user to enter two numbers and prints their division. Handle cases where the user enters non-numeric values or attempts to divide by zero using a try-except block.\n"
   ]
  },
  {
   "cell_type": "code",
   "execution_count": 3,
   "metadata": {
    "id": "H-xyoRTVYj3t"
   },
   "outputs": [
    {
     "name": "stdin",
     "output_type": "stream",
     "text": [
      "Enter the first number:  0\n",
      "Enter the second number:  0\n"
     ]
    },
    {
     "name": "stdout",
     "output_type": "stream",
     "text": [
      "Error: Division by zero is not allowed.\n"
     ]
    }
   ],
   "source": [
    "try:\n",
    "    num1 = float(input(\"Enter the first number: \"))\n",
    "    num2 = float(input(\"Enter the second number: \"))\n",
    "        \n",
    "    result = num1 / num2\n",
    "    print(f\"The result of dividing {num1} by {num2} is: {result}\")\n",
    "    \n",
    "except ValueError:\n",
    "    print(\"Error: Please enter valid numbers.\")\n",
    "    \n",
    "except ZeroDivisionError:\n",
    "    print(\"Error: Division by zero is not allowed.\")"
   ]
  },
  {
   "cell_type": "markdown",
   "metadata": {
    "id": "CPWcDSC_Yj3u"
   },
   "source": [
    "### Task 2\n",
    "- Use \"Random\" library to do the following:\n",
    "    1. Create a list of random numbers using list comprehension.\n",
    "    2. Create a list of squares of the even numbers from random numbers using list comprehension.\n",
    "    3. Create a list of tuples (number, square) for random numbers using list comprehension."
   ]
  },
  {
   "cell_type": "code",
   "execution_count": 4,
   "metadata": {
    "id": "Yfq-i6CeYj3u"
   },
   "outputs": [
    {
     "name": "stdout",
     "output_type": "stream",
     "text": [
      "\n",
      "T2.1\n",
      "\n",
      "List of random numbers: [16, 18, 44, 6, 35, 29, 22, 30, 14, 66]\n",
      "\n",
      "T2.2\n",
      "\n",
      "List of squares of even numbers: [256, 324, 1936, 36, 484, 900, 196, 4356]\n",
      "\n",
      "T2.3\n",
      "\n",
      "List of (number, square) tuples: [(16, 256), (18, 324), (44, 1936), (6, 36), (35, 1225), (29, 841), (22, 484), (30, 900), (14, 196), (66, 4356)]\n"
     ]
    }
   ],
   "source": [
    "import random\n",
    "\n",
    "print('\\nT2.1\\n')\n",
    "random_numbers = [random.randint(1, 100) for _ in range(10)]\n",
    "print(\"List of random numbers:\", random_numbers)\n",
    "\n",
    "\n",
    "print('\\nT2.2\\n')\n",
    "even_squares = [num ** 2 for num in random_numbers if num % 2 == 0]\n",
    "print(\"List of squares of even numbers:\", even_squares)\n",
    "\n",
    "print('\\nT2.3\\n')\n",
    "\n",
    "number_square_tuples = [(num, num ** 2) for num in random_numbers]\n",
    "print(\"List of (number, square) tuples:\", number_square_tuples)\n"
   ]
  },
  {
   "cell_type": "markdown",
   "metadata": {
    "id": "jYdOq46NYj3u"
   },
   "source": [
    "### Task 3\n",
    "- Create a dictionary where the keys are numbers from 1 to 5 and the values are list of their squares and cubes.\n",
    "\n",
    "  - **hint**: use dictionary of list comprehension.\n",
    "\n",
    "- Create a dictionary from two lists (one with keys and one with values) using dictionary comprehension.\n",
    "\n"
   ]
  },
  {
   "cell_type": "code",
   "execution_count": 8,
   "metadata": {
    "id": "IEnsiNmCYj3u"
   },
   "outputs": [
    {
     "name": "stdout",
     "output_type": "stream",
     "text": [
      "\n",
      "T3.1\n",
      "\n",
      "squares and cubes: {1: [1, 1], 2: [4, 8], 3: [9, 27], 4: [16, 64], 5: [25, 125]}\n",
      "\n",
      "T3.2\n",
      "\n",
      "the combined dictionary: {'a': 10, 'b': 20, 'c': 30, 'd': 40}\n"
     ]
    }
   ],
   "source": [
    "print('\\nT3.1\\n')\n",
    "squares_cubes_dict = {num: [num ** 2, num ** 3] for num in range(1, 6)}\n",
    "print(\"squares and cubes:\", squares_cubes_dict)\n",
    "\n",
    "print('\\nT3.2\\n')\n",
    "\n",
    "keys = ['a', 'b', 'c', 'd']\n",
    "values = [10, 20, 30, 40]\n",
    "\n",
    "combined_dict = {keys[i]: values[i] for i in range(len(keys))}\n",
    "print(\"the combined dictionary:\", combined_dict)\n",
    "\n"
   ]
  },
  {
   "cell_type": "markdown",
   "metadata": {
    "id": "6T9TCQ8SYj3v"
   },
   "source": [
    "### Task 4\n",
    "- Given a dictionary where keys are student names and values are lists of their scores, write a function that updates the scores of students who have achieved a perfect score (100) by adding a bonus of 5 points to each score. Use dictionary comprehension to achieve this.\n",
    "\n",
    "    - Implement the function add_bonus_to_perfect_scores(student_scores) that adds a bonus of 5 points to each score of students who have achieved a perfect score (100)."
   ]
  },
  {
   "cell_type": "code",
   "execution_count": 9,
   "metadata": {
    "id": "T3R_VsQpYj3v"
   },
   "outputs": [
    {
     "name": "stdout",
     "output_type": "stream",
     "text": [
      "Updated student scores with bonuses: {'Arwa': [90, 95, 105], 'Ghadia': [78, 88, 92], 'Ghadeer': [105, 105, 100], 'Deem': [88, 94, 80]}\n"
     ]
    }
   ],
   "source": [
    "def add_bonus_to_perfect_scores(student_scores):\n",
    "    updated_scores = {\n",
    "        student: [score + 5 for score in scores] if 100 in scores else scores\n",
    "        for student, scores in student_scores.items()\n",
    "    }\n",
    "    return updated_scores\n",
    "\n",
    "student_scores = {\n",
    "    'Arwa': [85, 90, 100],\n",
    "    'Ghadia': [78, 88, 92],\n",
    "    'Ghadeer': [100, 100, 95],\n",
    "    'Deem': [88, 94, 80]\n",
    "}\n",
    "\n",
    "updated_student_scores = add_bonus_to_perfect_scores(student_scores)\n",
    "print(\"Updated student scores with bonuses:\", updated_student_scores)\n"
   ]
  },
  {
   "cell_type": "markdown",
   "metadata": {
    "id": "rJkOEFAwYj3v"
   },
   "source": []
  }
 ],
 "metadata": {
  "colab": {
   "provenance": []
  },
  "kernelspec": {
   "display_name": "Python 3 (ipykernel)",
   "language": "python",
   "name": "python3"
  },
  "language_info": {
   "codemirror_mode": {
    "name": "ipython",
    "version": 3
   },
   "file_extension": ".py",
   "mimetype": "text/x-python",
   "name": "python",
   "nbconvert_exporter": "python",
   "pygments_lexer": "ipython3",
   "version": "3.12.4"
  }
 },
 "nbformat": 4,
 "nbformat_minor": 4
}
