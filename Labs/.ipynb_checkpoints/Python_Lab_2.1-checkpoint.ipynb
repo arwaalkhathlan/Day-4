{
 "cells": [
  {
   "cell_type": "markdown",
   "metadata": {
    "id": "x7F-mxeubDUG"
   },
   "source": [
    "# Python_Lab_2.1\n"
   ]
  },
  {
   "cell_type": "markdown",
   "metadata": {
    "id": "14c6Hn1BbDUH"
   },
   "source": [
    "### Task 1\n",
    "1. Write a function named is_prime that takes a number as a parameter and returns True if the number is prime and False otherwise. Print whether the number 29 is prime."
   ]
  },
  {
   "cell_type": "code",
   "execution_count": 28,
   "metadata": {
    "id": "5e_MZEN0bDUI"
   },
   "outputs": [
    {
     "name": "stdin",
     "output_type": "stream",
     "text": [
      "Enter a number: 29\n"
     ]
    },
    {
     "name": "stdout",
     "output_type": "stream",
     "text": [
      "True\n"
     ]
    }
   ],
   "source": [
    "def is_prime(x):\n",
    "    for i in range(2, x):\n",
    "        if x % i == 0:\n",
    "            return False\n",
    "    return True\n",
    "\n",
    "\n",
    "x = int(input(\"Enter a number:\"))\n",
    "print(is_prime(x))\n"
   ]
  },
  {
   "cell_type": "markdown",
   "metadata": {
    "id": "2zKG8ZcybDUI"
   },
   "source": [
    "### Task 2\n",
    "1. Create a list of 10 numbers and sort them in descending order using the sort() function.\n",
    "2. Use the len() function to print the length of the sorted list.\n",
    "3. Use the zip() function to combine three lists (names, ages, and cities) into a list of tuples.\n",
    "4. Use the range() function to create a list of even numbers from 2 to 20 and print the list."
   ]
  },
  {
   "cell_type": "code",
   "execution_count": 50,
   "metadata": {
    "id": "yyoe__M_bDUI"
   },
   "outputs": [
    {
     "name": "stdout",
     "output_type": "stream",
     "text": [
      "T2.1 && T2.2\n",
      "\n",
      "the length of the num list is: 10\n",
      "\n",
      "T3\n",
      "\n",
      "(('arwa', 21, 'riyadh'), ('ghadia', 20, 'khober'), ('ghadeer', 17, 'dammam'), ('deem', 9, 'dhahran'), ('saad', 13, 'jeddah'))\n",
      "\n",
      "T3\n",
      "\n",
      "[2, 3, 4, 5, 6, 7, 8, 9, 10, 11, 12, 13, 14, 15, 16, 17, 18, 19, 20]\n"
     ]
    }
   ],
   "source": [
    "print('T2.1 && T2.2\\n')\n",
    "num = [2,4,3,1,5,9,6,8,7,0]\n",
    "num.sort(reverse=True)\n",
    "print('the length of the num list is:',len(num))\n",
    "\n",
    "print('\\nT3\\n')\n",
    "\n",
    "names = ['arwa','ghadia','ghadeer','deem','saad']\n",
    "age = [21,20,17,9,13]\n",
    "citis = ['riyadh','khober','dammam','dhahran','jeddah']\n",
    "\n",
    "combine = zip(names,age,citis)\n",
    "print(tuple(combine))\n",
    "\n",
    "print('\\nT3\\n')\n",
    "\n",
    "lst210 = [*range(2,21,1)]\n",
    "print(lst210)"
   ]
  },
  {
   "cell_type": "markdown",
   "metadata": {
    "id": "aStW5p7AbDUI"
   },
   "source": [
    "### Task 3\n",
    "Build a phone book program that receives the phone number, and returns the name of the owner.\n",
    "You can follow the table below:\n",
    "\n",
    "| Name     | Number     |\n",
    "| -------- | ---------- |\n",
    "| Amal     | 1111111111 |\n",
    "| Mohammed | 2222222222 |\n",
    "| Khadijah | 3333333333 |\n",
    "| Abdullah | 4444444444 |\n",
    "| Rawan    | 5555555555 |\n",
    "| Faisal   | 6666666666 |\n",
    "| Layla    | 7777777777 |\n",
    "\n",
    "- If the number exists, print the owner. Otherwise, print \"Sorry, the number is not found\".\n",
    "- If the number is less or more than 10 numbers, print \"This is invalid number\".\n",
    "- If the number contains letters or symbols, print \"This is invalid number\".\n"
   ]
  },
  {
   "cell_type": "code",
   "execution_count": 61,
   "metadata": {
    "id": "kvXmjUe-bDUJ"
   },
   "outputs": [
    {
     "name": "stdin",
     "output_type": "stream",
     "text": [
      "Enter the phone number:  1111111111\n"
     ]
    },
    {
     "name": "stdout",
     "output_type": "stream",
     "text": [
      "The owner of the phone number is: Amal\n"
     ]
    },
    {
     "name": "stdin",
     "output_type": "stream",
     "text": [
      "do you want to look up another number? n\n"
     ]
    },
    {
     "name": "stdout",
     "output_type": "stream",
     "text": [
      "Exiting the phone book program.\n"
     ]
    }
   ],
   "source": [
    "def phone_book_lookup(phone_number):\n",
    "    phone_book = {\n",
    "        'Amal': '1111111111',\n",
    "        'Mohammed': '2222222222',\n",
    "        'Khadijah': '3333333333',\n",
    "        'Abdullah': '4444444444',\n",
    "        'Rawan': '5555555555',\n",
    "        'Faisal': '6666666666',\n",
    "        'Layla': '7777777777'\n",
    "    }\n",
    "    \n",
    "    if len(phone_number) != 10:\n",
    "        print(\"This is an invalid number\")\n",
    "    elif not phone_number.isdigit():\n",
    "        print(\"This is an invalid number\")\n",
    "    else:\n",
    "        for name, number in phone_book.items():\n",
    "            if number == phone_number:\n",
    "                print(f\"The owner of the phone number is: {name}\")\n",
    "                return\n",
    "        print(\"Sorry, the number is not found\")\n",
    "\n",
    "while True:\n",
    "    phone_number = input(\"Enter the phone number: \")\n",
    "    phone_book_lookup(phone_number)\n",
    "    x = input(\"do you want to look up another number?\").strip().lower()\n",
    "    if x == 'no'or x == 'n':\n",
    "        print(\"Exiting\")\n",
    "        break\n"
   ]
  },
  {
   "cell_type": "markdown",
   "metadata": {
    "id": "exLHQ28nbDUJ"
   },
   "source": [
    "### Task 4\n",
    "- Given the following list : [5, 4, 17, 19, 30, 2, 7, 10, 45]\n",
    "    1. Use a lambda function to filter out only the odd numbers.\n",
    "    2. Print the new list of odd numbers."
   ]
  },
  {
   "cell_type": "code",
   "execution_count": 54,
   "metadata": {
    "id": "64SUsh1cbDUJ",
    "scrolled": true
   },
   "outputs": [
    {
     "name": "stdout",
     "output_type": "stream",
     "text": [
      "[5, 17, 19, 7, 45]\n"
     ]
    }
   ],
   "source": [
    "lst1 = [5, 4, 17, 19, 30, 2, 7, 10, 45]\n",
    "x = lambda a: a % 2 != 0 \n",
    "\n",
    "lst2 = list(filter(x, lst1))  \n",
    "\n",
    "print(lst2)\n"
   ]
  }
 ],
 "metadata": {
  "colab": {
   "provenance": []
  },
  "kernelspec": {
   "display_name": "Python 3 (ipykernel)",
   "language": "python",
   "name": "python3"
  },
  "language_info": {
   "codemirror_mode": {
    "name": "ipython",
    "version": 3
   },
   "file_extension": ".py",
   "mimetype": "text/x-python",
   "name": "python",
   "nbconvert_exporter": "python",
   "pygments_lexer": "ipython3",
   "version": "3.12.4"
  }
 },
 "nbformat": 4,
 "nbformat_minor": 4
}
